{
 "cells": [
  {
   "cell_type": "code",
   "execution_count": 1,
   "id": "62bfa458",
   "metadata": {},
   "outputs": [],
   "source": [
    "import pandas as pd\n",
    "import numpy as np\n",
    "import matplotlib.pyplot as plt\n",
    "from datetime import datetime, timedelta\n",
    "from functools import reduce\n",
    "import seaborn as sns\n",
    "from sklearn.ensemble import IsolationForest,RandomForestRegressor,GradientBoostingRegressor"
   ]
  },
  {
   "cell_type": "code",
   "execution_count": 2,
   "id": "33ce5e82",
   "metadata": {},
   "outputs": [],
   "source": [
    "df1=pd.read_csv('blane_before_hpgr.csv')"
   ]
  },
  {
   "cell_type": "code",
   "execution_count": 3,
   "id": "c0fc6e6c",
   "metadata": {},
   "outputs": [],
   "source": [
    "df1.insert(loc=0, column='new_date', value=df1['Date']+' '+df1['Time'])"
   ]
  },
  {
   "cell_type": "code",
   "execution_count": 4,
   "id": "b380493b",
   "metadata": {},
   "outputs": [],
   "source": [
    "df1['new_date']=pd.to_datetime(df1['new_date'],format='%m/%d/%Y %H:%M:%S')\n",
    "df1['new_date']=df1['new_date']-timedelta( minutes=0, hours=7)\n",
    "df1['new_date']=df1['new_date'].dt.date\n",
    "df1.drop(['Date','Time'],axis=1,inplace=True)\n",
    "df1 = df1.ffill()\n",
    "df1=df1.groupby(['new_date']).mean()\n"
   ]
  },
  {
   "cell_type": "code",
   "execution_count": 5,
   "id": "bb8d937a",
   "metadata": {},
   "outputs": [
    {
     "name": "stdout",
     "output_type": "stream",
     "text": [
      "<class 'pandas.core.frame.DataFrame'>\n",
      "Index: 974 entries, 2019-03-20 to 2022-02-22\n",
      "Data columns (total 1 columns):\n",
      " #   Column             Non-Null Count  Dtype  \n",
      "---  ------             --------------  -----  \n",
      " 0   Blane_before_hpgr  974 non-null    float64\n",
      "dtypes: float64(1)\n",
      "memory usage: 15.2+ KB\n"
     ]
    }
   ],
   "source": [
    "df1.info()"
   ]
  },
  {
   "cell_type": "code",
   "execution_count": 6,
   "id": "65658f90",
   "metadata": {},
   "outputs": [],
   "source": [
    "df2=pd.read_csv('blane_after_hpgr.csv')"
   ]
  },
  {
   "cell_type": "code",
   "execution_count": 7,
   "id": "ad1b7763",
   "metadata": {},
   "outputs": [],
   "source": [
    "df2.insert(loc=0, column='new_date', value=df2['Date']+' '+df2['Time'])"
   ]
  },
  {
   "cell_type": "code",
   "execution_count": 8,
   "id": "ff631755",
   "metadata": {},
   "outputs": [],
   "source": [
    "df2['new_date']=pd.to_datetime(df2['new_date'],format='%m/%d/%Y %H:%M:%S')\n",
    "df2['new_date']=df2['new_date']-timedelta( minutes=0, hours=7)\n",
    "df2['new_date']=df2['new_date'].dt.date\n",
    "df2.drop(['Date','Time'],axis=1,inplace=True)\n",
    "df2 = df2.ffill()\n",
    "df2=df2.groupby(['new_date']).mean()\n"
   ]
  },
  {
   "cell_type": "code",
   "execution_count": 9,
   "id": "40b1cb31",
   "metadata": {},
   "outputs": [
    {
     "name": "stdout",
     "output_type": "stream",
     "text": [
      "<class 'pandas.core.frame.DataFrame'>\n",
      "Index: 976 entries, 2019-03-20 to 2022-02-22\n",
      "Data columns (total 1 columns):\n",
      " #   Column            Non-Null Count  Dtype  \n",
      "---  ------            --------------  -----  \n",
      " 0   Blane_after_hpgr  976 non-null    float64\n",
      "dtypes: float64(1)\n",
      "memory usage: 15.2+ KB\n"
     ]
    }
   ],
   "source": [
    "df2.info()"
   ]
  },
  {
   "cell_type": "code",
   "execution_count": 10,
   "id": "0dd196a6",
   "metadata": {},
   "outputs": [],
   "source": [
    "df3=pd.read_csv('area600.csv')"
   ]
  },
  {
   "cell_type": "code",
   "execution_count": 11,
   "id": "1199a5eb",
   "metadata": {},
   "outputs": [],
   "source": [
    "df3.insert(loc=0, column='new_date', value=df3['Date']+' '+df3['Time'])"
   ]
  },
  {
   "cell_type": "code",
   "execution_count": 12,
   "id": "36c3c2e2",
   "metadata": {},
   "outputs": [],
   "source": [
    "df3['new_date']=pd.to_datetime(df3['new_date'],format='%m/%d/%Y %H:%M')\n",
    "df3['new_date']=df3['new_date']-timedelta( minutes=0, hours=7)\n",
    "df3['new_date']=df3['new_date'].dt.date\n",
    "df3.drop(['Date','Time'],axis=1,inplace=True)\n",
    "df3 = df3.ffill()\n",
    "df3=df3.groupby(['new_date']).mean()"
   ]
  },
  {
   "cell_type": "code",
   "execution_count": 13,
   "id": "c5d858fa",
   "metadata": {},
   "outputs": [
    {
     "name": "stdout",
     "output_type": "stream",
     "text": [
      "<class 'pandas.core.frame.DataFrame'>\n",
      "Index: 979 entries, 2019-03-20 to 2022-02-22\n",
      "Data columns (total 2 columns):\n",
      " #   Column  Non-Null Count  Dtype  \n",
      "---  ------  --------------  -----  \n",
      " 0   MC%     979 non-null    float64\n",
      " 1   Drop    979 non-null    float64\n",
      "dtypes: float64(2)\n",
      "memory usage: 22.9+ KB\n"
     ]
    }
   ],
   "source": [
    "df3.info()"
   ]
  },
  {
   "cell_type": "code",
   "execution_count": 21,
   "id": "2c9e4775",
   "metadata": {},
   "outputs": [],
   "source": [
    "df4=pd.read_csv('row-data.csv')"
   ]
  },
  {
   "cell_type": "code",
   "execution_count": 22,
   "id": "9f7070a0",
   "metadata": {},
   "outputs": [
    {
     "data": {
      "text/html": [
       "<div>\n",
       "<style scoped>\n",
       "    .dataframe tbody tr th:only-of-type {\n",
       "        vertical-align: middle;\n",
       "    }\n",
       "\n",
       "    .dataframe tbody tr th {\n",
       "        vertical-align: top;\n",
       "    }\n",
       "\n",
       "    .dataframe thead th {\n",
       "        text-align: right;\n",
       "    }\n",
       "</style>\n",
       "<table border=\"1\" class=\"dataframe\">\n",
       "  <thead>\n",
       "    <tr style=\"text-align: right;\">\n",
       "      <th></th>\n",
       "      <th>Date</th>\n",
       "      <th>710FN3_Damper(%)</th>\n",
       "      <th>Water_Mix1(m3-h)</th>\n",
       "      <th>Water_Mix2(m3-h)</th>\n",
       "      <th>Killn_Speed(rpm)</th>\n",
       "      <th>TG_Zone1_Temp(deg)</th>\n",
       "      <th>710FN1_Damper(%)</th>\n",
       "      <th>730FN1_Damper(%)</th>\n",
       "      <th>Grate_Feed(ton)</th>\n",
       "      <th>OffGas(deg)</th>\n",
       "      <th>WF5(t-h)</th>\n",
       "      <th>WF6(t-h)</th>\n",
       "      <th>Grate_Speed(rpm)</th>\n",
       "    </tr>\n",
       "  </thead>\n",
       "  <tbody>\n",
       "    <tr>\n",
       "      <th>0</th>\n",
       "      <td>22-03-2019</td>\n",
       "      <td>34.56</td>\n",
       "      <td>3.77</td>\n",
       "      <td>2.85</td>\n",
       "      <td>1.72</td>\n",
       "      <td>215.62</td>\n",
       "      <td>51.00</td>\n",
       "      <td>32.50</td>\n",
       "      <td>12383.61</td>\n",
       "      <td>827.97</td>\n",
       "      <td>14.54</td>\n",
       "      <td>19.03</td>\n",
       "      <td>6.20</td>\n",
       "    </tr>\n",
       "    <tr>\n",
       "      <th>1</th>\n",
       "      <td>23-03-2019</td>\n",
       "      <td>34.01</td>\n",
       "      <td>5.68</td>\n",
       "      <td>2.77</td>\n",
       "      <td>1.72</td>\n",
       "      <td>218.05</td>\n",
       "      <td>51.98</td>\n",
       "      <td>31.96</td>\n",
       "      <td>12413.71</td>\n",
       "      <td>847.22</td>\n",
       "      <td>17.42</td>\n",
       "      <td>16.49</td>\n",
       "      <td>5.98</td>\n",
       "    </tr>\n",
       "    <tr>\n",
       "      <th>2</th>\n",
       "      <td>24-03-2019</td>\n",
       "      <td>28.01</td>\n",
       "      <td>5.07</td>\n",
       "      <td>3.07</td>\n",
       "      <td>1.72</td>\n",
       "      <td>227.96</td>\n",
       "      <td>46.90</td>\n",
       "      <td>31.49</td>\n",
       "      <td>12277.02</td>\n",
       "      <td>844.50</td>\n",
       "      <td>17.58</td>\n",
       "      <td>18.08</td>\n",
       "      <td>5.98</td>\n",
       "    </tr>\n",
       "    <tr>\n",
       "      <th>3</th>\n",
       "      <td>25-03-2019</td>\n",
       "      <td>26.59</td>\n",
       "      <td>3.48</td>\n",
       "      <td>3.28</td>\n",
       "      <td>1.71</td>\n",
       "      <td>218.19</td>\n",
       "      <td>39.30</td>\n",
       "      <td>26.14</td>\n",
       "      <td>9942.13</td>\n",
       "      <td>834.06</td>\n",
       "      <td>10.72</td>\n",
       "      <td>11.61</td>\n",
       "      <td>4.72</td>\n",
       "    </tr>\n",
       "    <tr>\n",
       "      <th>4</th>\n",
       "      <td>26-03-2019</td>\n",
       "      <td>34.39</td>\n",
       "      <td>4.49</td>\n",
       "      <td>4.48</td>\n",
       "      <td>1.72</td>\n",
       "      <td>223.18</td>\n",
       "      <td>48.12</td>\n",
       "      <td>32.16</td>\n",
       "      <td>12960.56</td>\n",
       "      <td>805.14</td>\n",
       "      <td>17.68</td>\n",
       "      <td>17.76</td>\n",
       "      <td>6.13</td>\n",
       "    </tr>\n",
       "  </tbody>\n",
       "</table>\n",
       "</div>"
      ],
      "text/plain": [
       "         Date  710FN3_Damper(%)  Water_Mix1(m3-h)  Water_Mix2(m3-h)  \\\n",
       "0  22-03-2019             34.56              3.77              2.85   \n",
       "1  23-03-2019             34.01              5.68              2.77   \n",
       "2  24-03-2019             28.01              5.07              3.07   \n",
       "3  25-03-2019             26.59              3.48              3.28   \n",
       "4  26-03-2019             34.39              4.49              4.48   \n",
       "\n",
       "   Killn_Speed(rpm)  TG_Zone1_Temp(deg)  710FN1_Damper(%)  730FN1_Damper(%)  \\\n",
       "0              1.72              215.62             51.00             32.50   \n",
       "1              1.72              218.05             51.98             31.96   \n",
       "2              1.72              227.96             46.90             31.49   \n",
       "3              1.71              218.19             39.30             26.14   \n",
       "4              1.72              223.18             48.12             32.16   \n",
       "\n",
       "   Grate_Feed(ton)  OffGas(deg)  WF5(t-h)  WF6(t-h)  Grate_Speed(rpm)  \n",
       "0         12383.61       827.97     14.54     19.03              6.20  \n",
       "1         12413.71       847.22     17.42     16.49              5.98  \n",
       "2         12277.02       844.50     17.58     18.08              5.98  \n",
       "3          9942.13       834.06     10.72     11.61              4.72  \n",
       "4         12960.56       805.14     17.68     17.76              6.13  "
      ]
     },
     "execution_count": 22,
     "metadata": {},
     "output_type": "execute_result"
    }
   ],
   "source": [
    "df4.head()"
   ]
  },
  {
   "cell_type": "code",
   "execution_count": 23,
   "id": "f5873e76",
   "metadata": {},
   "outputs": [],
   "source": [
    "df4['Date']=pd.to_datetime(df4['Date'],format='%d-%m-%Y')\n",
    "df4['Date']=df4['Date'].dt.date\n",
    "df4.rename(columns={'Date' : 'new_date'}, inplace=True)\n",
    "df4 = df4.ffill()\n",
    "df4=df4.groupby(['new_date']).mean()"
   ]
  },
  {
   "cell_type": "code",
   "execution_count": 24,
   "id": "8f099535",
   "metadata": {},
   "outputs": [
    {
     "name": "stdout",
     "output_type": "stream",
     "text": [
      "<class 'pandas.core.frame.DataFrame'>\n",
      "Index: 1071 entries, 2019-03-22 to 2022-02-24\n",
      "Data columns (total 12 columns):\n",
      " #   Column              Non-Null Count  Dtype  \n",
      "---  ------              --------------  -----  \n",
      " 0   710FN3_Damper(%)    1071 non-null   float64\n",
      " 1   Water_Mix1(m3-h)    1071 non-null   float64\n",
      " 2   Water_Mix2(m3-h)    1071 non-null   float64\n",
      " 3   Killn_Speed(rpm)    1071 non-null   float64\n",
      " 4   TG_Zone1_Temp(deg)  1071 non-null   float64\n",
      " 5   710FN1_Damper(%)    1071 non-null   float64\n",
      " 6   730FN1_Damper(%)    1071 non-null   float64\n",
      " 7   Grate_Feed(ton)     1071 non-null   float64\n",
      " 8   OffGas(deg)         1071 non-null   float64\n",
      " 9   WF5(t-h)            1071 non-null   float64\n",
      " 10  WF6(t-h)            1071 non-null   float64\n",
      " 11  Grate_Speed(rpm)    1071 non-null   float64\n",
      "dtypes: float64(12)\n",
      "memory usage: 108.8+ KB\n"
     ]
    }
   ],
   "source": [
    "df4.info()"
   ]
  },
  {
   "cell_type": "code",
   "execution_count": null,
   "id": "9b82f6b1",
   "metadata": {},
   "outputs": [],
   "source": [
    "df5=pd.read_csv('area700.csv')"
   ]
  },
  {
   "cell_type": "code",
   "execution_count": null,
   "id": "5a4752f7",
   "metadata": {},
   "outputs": [],
   "source": [
    "df5.insert(loc=0, column='new_date', value=df5['Date']+' '+df5['Time'])"
   ]
  },
  {
   "cell_type": "code",
   "execution_count": null,
   "id": "5385a6ba",
   "metadata": {},
   "outputs": [],
   "source": [
    "df5['new_date']=pd.to_datetime(df5['new_date'],format='%m/%d/%Y %H:%M')\n",
    "df5['new_date']=df5['new_date']-timedelta( minutes=0, hours=7)\n",
    "df5['new_date']=df5['new_date'].dt.date\n",
    "df5.drop(['Date','Time'],axis=1,inplace=True)\n",
    "df5 = df5.ffill()\n",
    "df5=df5.groupby(['new_date']).mean()"
   ]
  },
  {
   "cell_type": "code",
   "execution_count": null,
   "id": "20e75e91",
   "metadata": {},
   "outputs": [],
   "source": [
    "df5.info()"
   ]
  },
  {
   "cell_type": "code",
   "execution_count": null,
   "id": "781c56a5",
   "metadata": {},
   "outputs": [],
   "source": [
    "data_frames = [df1, df2, df3,df4,df5]\n",
    "df = reduce(lambda  left,right: pd.merge(left,right,on=['new_date'],how='outer'), data_frames)"
   ]
  },
  {
   "cell_type": "code",
   "execution_count": null,
   "id": "a19a9b86",
   "metadata": {},
   "outputs": [],
   "source": [
    "df.info()"
   ]
  },
  {
   "cell_type": "code",
   "execution_count": null,
   "id": "295f4656",
   "metadata": {},
   "outputs": [],
   "source": [
    "df = df.ffill()"
   ]
  },
  {
   "cell_type": "code",
   "execution_count": null,
   "id": "5dd3a75c",
   "metadata": {},
   "outputs": [],
   "source": [
    "df.dropna(how='any',axis=0,inplace=True)"
   ]
  },
  {
   "cell_type": "code",
   "execution_count": null,
   "id": "c40c1333",
   "metadata": {},
   "outputs": [],
   "source": [
    "df.info()"
   ]
  },
  {
   "cell_type": "code",
   "execution_count": null,
   "id": "ff51b144",
   "metadata": {},
   "outputs": [],
   "source": [
    "df.describe()"
   ]
  },
  {
   "cell_type": "code",
   "execution_count": null,
   "id": "4998f433",
   "metadata": {},
   "outputs": [],
   "source": [
    "df=df[(df['Grate_Feed(ton)'] >12000) & (df['Grate_Feed(ton)'] <14000) ]"
   ]
  },
  {
   "cell_type": "code",
   "execution_count": null,
   "id": "4c292e21",
   "metadata": {},
   "outputs": [],
   "source": [
    "col=df.columns\n",
    "data=df.values\n",
    "idx=df.index.values"
   ]
  },
  {
   "cell_type": "code",
   "execution_count": null,
   "id": "4b708331",
   "metadata": {},
   "outputs": [],
   "source": [
    "iso = IsolationForest()\n",
    "yhat = iso.fit_predict(data)\n",
    "yhat.shape"
   ]
  },
  {
   "cell_type": "code",
   "execution_count": null,
   "id": "874fcd21",
   "metadata": {},
   "outputs": [],
   "source": [
    "# select all rows that are not outliers\n",
    "mask = yhat != -1\n",
    "mask.shape"
   ]
  },
  {
   "cell_type": "code",
   "execution_count": null,
   "id": "ca5f4592",
   "metadata": {},
   "outputs": [],
   "source": [
    "data = data[mask, :]\n",
    "idx = idx[mask]"
   ]
  },
  {
   "cell_type": "code",
   "execution_count": null,
   "id": "17d49711",
   "metadata": {},
   "outputs": [],
   "source": [
    "df=pd.DataFrame(data,columns=col,index=idx)\n",
    "df"
   ]
  },
  {
   "cell_type": "code",
   "execution_count": null,
   "id": "54389f8b",
   "metadata": {},
   "outputs": [],
   "source": [
    "len(df)"
   ]
  },
  {
   "cell_type": "code",
   "execution_count": null,
   "id": "51374645",
   "metadata": {},
   "outputs": [],
   "source": [
    "plt.figure(figsize=(15,7),dpi=80)\n",
    "plt.title('Grate Speed (rpm)', fontsize=20,fontweight='bold')\n",
    "f=sns.lineplot(x=range(len(df)), y=df['Grate_Speed(rpm)'], data=df )\n",
    "f.set_xlabel(\"Date\", fontsize = 20)\n",
    "\n",
    "plt.show()"
   ]
  },
  {
   "cell_type": "code",
   "execution_count": null,
   "id": "5c33b332",
   "metadata": {},
   "outputs": [],
   "source": [
    "df.describe()"
   ]
  },
  {
   "cell_type": "code",
   "execution_count": null,
   "id": "1556e31d",
   "metadata": {},
   "outputs": [],
   "source": [
    "df['Pellet_Feo'] = np.where(df['FeO'] <= 0.5 ,'Very Good', None)\n",
    "df['Pellet_Feo'] = np.where(((df['FeO'] <= 0.8)&(df['FeO'] > 0.5)) ,'Good', df['Pellet_Feo'])\n",
    "df['Pellet_Feo'] = np.where(((df['FeO'] <= 1.2)&(df['FeO'] > 0.8)) ,'Not Bad', df['Pellet_Feo'])\n",
    "df['Pellet_Feo'] = np.where(df['FeO'] > 1.2 ,'Bad', df['Pellet_Feo'])"
   ]
  },
  {
   "cell_type": "code",
   "execution_count": null,
   "id": "6b0b99b1",
   "metadata": {},
   "outputs": [],
   "source": [
    "df.head()"
   ]
  },
  {
   "cell_type": "code",
   "execution_count": null,
   "id": "80c23f54",
   "metadata": {},
   "outputs": [],
   "source": []
  },
  {
   "cell_type": "code",
   "execution_count": null,
   "id": "d9c425c2",
   "metadata": {},
   "outputs": [],
   "source": [
    "df.info()"
   ]
  },
  {
   "cell_type": "code",
   "execution_count": null,
   "id": "7df10f2b",
   "metadata": {},
   "outputs": [],
   "source": [
    "#df.to_csv('Feo_analysis_data.csv',index_label = 'Date')"
   ]
  },
  {
   "cell_type": "code",
   "execution_count": null,
   "id": "909ed467",
   "metadata": {},
   "outputs": [],
   "source": [
    "df['Pellet_Feo'].unique()"
   ]
  },
  {
   "cell_type": "code",
   "execution_count": null,
   "id": "9b3c725c",
   "metadata": {},
   "outputs": [],
   "source": []
  }
 ],
 "metadata": {
  "kernelspec": {
   "display_name": "Python 3 (ipykernel)",
   "language": "python",
   "name": "python3"
  },
  "language_info": {
   "codemirror_mode": {
    "name": "ipython",
    "version": 3
   },
   "file_extension": ".py",
   "mimetype": "text/x-python",
   "name": "python",
   "nbconvert_exporter": "python",
   "pygments_lexer": "ipython3",
   "version": "3.9.7"
  }
 },
 "nbformat": 4,
 "nbformat_minor": 5
}
